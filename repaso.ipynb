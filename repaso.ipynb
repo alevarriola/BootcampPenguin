{
 "cells": [
  {
   "cell_type": "markdown",
   "id": "75315607",
   "metadata": {},
   "source": [
    "# 1. Funciones con parámetros y argumentos\n",
    "## 🎯 Evaluar desempeño académico\n",
    "\n",
    "### Descripción:\n",
    "Crea una función llamada evaluar_estudiante que reciba los siguientes parámetros:\n",
    "\n",
    "    - nombre (Nombre del estudiante)\n",
    "    - nota1, nota2, nota3 (Notas del estudiante)\n",
    "\n",
    "### La función debe:\n",
    "\n",
    "    Calcular el promedio de las notas.\n",
    "    Devolver un mensaje como:\n",
    "        \"Felicitaciones <nombre>, aprobaste con un promedio de <promedio>!\" si el promedio es mayor o igual a 6.\n",
    "        \"Lo siento <nombre>, reprobaste con un promedio de <promedio>.\" si es menor a 6.\n"
   ]
  },
  {
   "cell_type": "code",
   "execution_count": 7,
   "id": "6f9acea0",
   "metadata": {},
   "outputs": [],
   "source": [
    "def evaluar_estudiante(nombre, nota1, nota2, nota3):\n",
    "    promedio = (nota1 + nota2 + nota3) // 3\n",
    "    if promedio >= 6:\n",
    "        print(f\"Felicidades {nombre}, aprobaste con un promedio de {promedio}!!\")\n",
    "    else:\n",
    "        print(f\"Lo siento {nombre}, reprobaste con un  promedio de {promedio} :(\")"
   ]
  },
  {
   "cell_type": "code",
   "execution_count": 8,
   "id": "9acfd184",
   "metadata": {},
   "outputs": [
    {
     "name": "stdout",
     "output_type": "stream",
     "text": [
      "Felicidades Pedro, aprobaste con un promedio de 9!!\n",
      "Felicidades Jose, aprobaste con un promedio de 6!!\n",
      "Lo siento Juan, reprobaste con un  promedio de 3 :(\n"
     ]
    }
   ],
   "source": [
    "# Test\n",
    "evaluar_estudiante(\"Pedro\", 10, 9, 8)\n",
    "evaluar_estudiante(\"Jose\", 5, 7, 6)\n",
    "evaluar_estudiante(\"Juan\", 1, 5, 3)"
   ]
  },
  {
   "cell_type": "markdown",
   "id": "df6621d0",
   "metadata": {},
   "source": [
    "# 2. Funciones con RETURN\n",
    "## 1. Devolver el nombre más largo\n",
    "### Descripción:\n",
    "Crea una función nombre_mas_largo que reciba una lista de nombres y devuelva el nombre que tenga más letras."
   ]
  },
  {
   "cell_type": "code",
   "execution_count": 9,
   "id": "38d874a8",
   "metadata": {},
   "outputs": [],
   "source": [
    "def nombre_mas_largo(lista):\n",
    "    nombre_mas_largo = \"\"\n",
    "    for nombre in lista:\n",
    "        if len(nombre) > len(nombre_mas_largo):\n",
    "            nombre_mas_largo = nombre\n",
    "    return nombre_mas_largo\n"
   ]
  },
  {
   "cell_type": "code",
   "execution_count": 10,
   "id": "3559b031",
   "metadata": {},
   "outputs": [
    {
     "name": "stdout",
     "output_type": "stream",
     "text": [
      "El ganador al nombre mas largo es: Maximiliano\n"
     ]
    }
   ],
   "source": [
    "nombres = [\n",
    "    \"Ana\",\n",
    "    \"Sebastián\",\n",
    "    \"Luis\",\n",
    "    \"Fernanda\",\n",
    "    \"Carlos\",\n",
    "    \"Isabella\",\n",
    "    \"Fernando\",\n",
    "    \"José\",\n",
    "    \"Valentina\",\n",
    "    \"Maximiliano\"\n",
    "]\n",
    "ganador = nombre_mas_largo(nombres)\n",
    "print(f\"El ganador al nombre mas largo es: {ganador}\")"
   ]
  },
  {
   "cell_type": "markdown",
   "id": "8a3e1dcb",
   "metadata": {},
   "source": [
    "# 3. Condicionales\n",
    "## 🍔 Elegir menú de restaurante\n",
    "\n",
    "### Descripción:\n",
    "Crea un programa que pida al usuario que ingrese un número para elegir una opción del menú. Según el número que el usuario escriba, el programa debe:\n",
    "\n",
    "- Si elige 1, mostrar: \"Elegiste Hamburguesa\",\n",
    "- Si elige 2, mostrar: \"Elegiste Pizza\",\n",
    "- Si elige 3, mostrar: \"Elegiste Ensalada\",\n",
    "- Si escribe cualquier otro número, mostrar: \"Opción no válida\".\n"
   ]
  },
  {
   "cell_type": "code",
   "execution_count": 14,
   "id": "3cd97d63",
   "metadata": {},
   "outputs": [
    {
     "name": "stdout",
     "output_type": "stream",
     "text": [
      "Bienvenido al restaurante\n",
      "Si quiere una hamburguesa elija (1), una pizza elija (2) o una ensalada elija (3)\n",
      "Opcion no valida\n"
     ]
    }
   ],
   "source": [
    "print(\"Bienvenido al restaurante\")\n",
    "print(\"Si quiere una hamburguesa elija (1), una pizza elija (2) o una ensalada elija (3)\")\n",
    "opcion = int(input(\"Elija una opcion\"))\n",
    "\n",
    "if opcion == 1:\n",
    "    print(\"Elegiste una hamburguesa\")\n",
    "elif opcion == 2:\n",
    "    print(\"Elegiste una pizza\")\n",
    "elif opcion == 3:\n",
    "    print(\"Elegiste una ensalada\")\n",
    "else:\n",
    "    print(\"Opcion no valida\")\n"
   ]
  },
  {
   "cell_type": "markdown",
   "id": "14e7e9d8",
   "metadata": {},
   "source": [
    "# 4. Listas\n",
    "## 🧳 Eliminar elemento de una lista\n",
    "### Descripción:\n",
    "Crea una función llamada eliminar_elemento que reciba una lista de números y un número específico para eliminarlo de la lista."
   ]
  },
  {
   "cell_type": "code",
   "execution_count": 17,
   "id": "d3129bbc",
   "metadata": {},
   "outputs": [],
   "source": [
    "def eliminar_elemento(lista, numero):  \n",
    "    lista.remove(numero)\n",
    "    print(f\"Numero {numero} eliminado de la lista\")\n",
    "    print(lista)"
   ]
  },
  {
   "cell_type": "code",
   "execution_count": 18,
   "id": "0bfcfc73",
   "metadata": {},
   "outputs": [
    {
     "name": "stdout",
     "output_type": "stream",
     "text": [
      "Numero 7 eliminado de la lista\n",
      "[1, 2, 3, 4, 5, 6, 8, 9]\n",
      "Numero 3 eliminado de la lista\n",
      "[1, 2, 4, 5, 6, 8, 9]\n"
     ]
    }
   ],
   "source": [
    "lista_numeros = [1,2,3,4,5,6,7,8,9]\n",
    "eliminar_elemento(lista_numeros, 7)\n",
    "eliminar_elemento(lista_numeros, 3)"
   ]
  },
  {
   "cell_type": "markdown",
   "id": "e73889a0",
   "metadata": {},
   "source": [
    "# 5. Bucle While\n",
    "## 🔁 Imprimir números hasta N con while\n",
    "### Descripción:\n",
    "Escribe un programa que pida al usuario un número y luego imprima los números del 1 hasta ese número (inclusive) utilizando un bucle while."
   ]
  },
  {
   "cell_type": "code",
   "execution_count": null,
   "id": "ab39091a",
   "metadata": {},
   "outputs": [
    {
     "name": "stdout",
     "output_type": "stream",
     "text": [
      "Ingrese un numero hasta donde contar\n",
      "[1, 2, 3, 4, 5, 6, 7, 8, 9, 10, 11, 12, 13, 14, 15, 16, 17, 18, 19, 20]\n"
     ]
    }
   ],
   "source": [
    "print(\"Ingrese un numero hasta donde contar\")\n",
    "numero_ingresado = int(input(\"Ingrese un numero\"))\n",
    "numero_lista = 1\n",
    "lista = []\n",
    "\n",
    "while numero_lista <= numero_ingresado:\n",
    "    lista.append(numero_lista)\n",
    "    numero_lista = numero_lista + 1\n",
    "\n",
    "print(lista)"
   ]
  },
  {
   "cell_type": "markdown",
   "id": "05c0b425",
   "metadata": {},
   "source": [
    "# 6. Bucle For\n",
    "## 🔢 Mostrar números mayores a 10 con for\n",
    "### Descripción:\n",
    "Escribe un programa que reciba una lista de números y utilice un bucle for para mostrar solo los números que sean mayores a 10."
   ]
  },
  {
   "cell_type": "code",
   "execution_count": 31,
   "id": "b45862b9",
   "metadata": {},
   "outputs": [
    {
     "name": "stdout",
     "output_type": "stream",
     "text": [
      "De la siguiente lista:\n",
      "[3, 57, 7, 2, 14, 6, 4, 8, 9, 1, 12, 45, 67, 34, 22, 80, 56, 14, 19, 92]\n",
      "La lista de numeros mayores a 10 es:\n",
      "[57, 14, 12, 45, 67, 34, 22, 80, 56, 14, 19, 92]\n"
     ]
    }
   ],
   "source": [
    "lista_numeros = [3, 57, 7, 2, 14, 6, 4, 8, 9, 1, 12, 45, 67, 34, 22, 80, 56, 14, 19, 92]\n",
    "lista_mayores = []\n",
    "\n",
    "for numero in lista_numeros:\n",
    "    if numero >= 10:\n",
    "        lista_mayores.append(numero)\n",
    "\n",
    "print(\"De la siguiente lista:\")\n",
    "print(lista_numeros)\n",
    "print(\"La lista de numeros mayores a 10 es:\")\n",
    "print(lista_mayores)\n"
   ]
  }
 ],
 "metadata": {
  "kernelspec": {
   "display_name": "Python 3",
   "language": "python",
   "name": "python3"
  },
  "language_info": {
   "codemirror_mode": {
    "name": "ipython",
    "version": 3
   },
   "file_extension": ".py",
   "mimetype": "text/x-python",
   "name": "python",
   "nbconvert_exporter": "python",
   "pygments_lexer": "ipython3",
   "version": "3.13.2"
  }
 },
 "nbformat": 4,
 "nbformat_minor": 5
}
