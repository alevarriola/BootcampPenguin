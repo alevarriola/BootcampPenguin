{
 "cells": [
  {
   "cell_type": "markdown",
   "id": "e275d168",
   "metadata": {},
   "source": [
    "# Challenge 1 🤺 - 10m\n",
    "Crear una función que imprima la variable palabra."
   ]
  },
  {
   "cell_type": "code",
   "execution_count": 4,
   "id": "089324ff",
   "metadata": {},
   "outputs": [
    {
     "name": "stdout",
     "output_type": "stream",
     "text": [
      "la palabra ingresada es Penguin\n"
     ]
    }
   ],
   "source": [
    "def imprimir_palabra(palabrita):\n",
    "    print(f\"la palabra ingresada es {palabrita}\")\n",
    "\n",
    "palabra = \"Penguin\"\n",
    "imprimir_palabra(palabra)"
   ]
  },
  {
   "cell_type": "markdown",
   "id": "9355301f",
   "metadata": {},
   "source": [
    "# Challenge 2 🤺 - 15 min\n",
    "Crear una función que reciba dos letras (parámetros) y que verifique si son iguales:\n",
    "\n",
    "- Si son iguales, imprimir \"Las letras son iguales\".\n",
    "- De lo contrario, imprimir \"Las letras son diferentes\"."
   ]
  },
  {
   "cell_type": "code",
   "execution_count": 7,
   "id": "09d441a3",
   "metadata": {},
   "outputs": [
    {
     "name": "stdout",
     "output_type": "stream",
     "text": [
      "La letra A y la letra B son diferentes\n"
     ]
    }
   ],
   "source": [
    "def verificar_letra(letra1, letra2):\n",
    "    if letra1 == letra2:\n",
    "        print(f\"La letra {letra1} y la letra {letra2} son iguales\")\n",
    "    else:\n",
    "        print(f\"La letra {letra1} y la letra {letra2} son diferentes\")\n",
    "\n",
    "primera_letra = \"A\"\n",
    "segunda_letra = \"B\"\n",
    "\n",
    "verificar_letra(primera_letra, segunda_letra)"
   ]
  },
  {
   "cell_type": "markdown",
   "id": "4506820d",
   "metadata": {},
   "source": [
    "# Challenge 3 🤺 - 20m\n",
    "Crear una función que reciba dos parámetros (una palabra y un número), y que retorne True si el número es igual a la cantidad de letras de la palabra. En caso contrario, que retorne False.\n",
    "\n",
    "Pista: cantidad de letras de una palabra en python"
   ]
  },
  {
   "cell_type": "code",
   "execution_count": null,
   "id": "5790ee5f",
   "metadata": {},
   "outputs": [
    {
     "data": {
      "text/plain": [
       "True"
      ]
     },
     "execution_count": 12,
     "metadata": {},
     "output_type": "execute_result"
    }
   ],
   "source": [
    "def largor_valido(palabra, numero):\n",
    "    if len(palabra) == numero:\n",
    "        return True\n",
    "    else:\n",
    "        return False\n",
    "    \n",
    "palabra_secreta = \"Penguin\" \n",
    "limite_caracteres =  7\n",
    "\n",
    "largor_valido(\"palabra_secreta\", limite_caracteres)"
   ]
  },
  {
   "cell_type": "markdown",
   "id": "affa0fcb",
   "metadata": {},
   "source": [
    "# Challenge 5 🤺 - 25m\n",
    "Pedir al usuario que ingrese 1 palabra, luego convertir esa palabra a una lista con sus caracteres con list(). Agregar esa lista de caracteres a una lista llamada palabras_ingresadas. Repetir el proceso 3 veces. Cada vez que se agregue una lista de caracteres, imprimir la lista palabras_ingresadas.\n",
    "\n",
    "\n",
    "Ejemplo del resultado esperado:\n",
    "\n",
    " ### Al ingresar la primera palabra\n",
    "    [['c', 'i', 'e', 'l', 'o']]\n",
    "\n",
    " ### Al ingresar la segunda palabra\n",
    "    [['c', 'i', 'e', 'l', 'o'], ['c', 'a', 'l', 'o', 'r']]\n",
    "\n",
    " ### Al ingresar la tercera palabra\n",
    "    [['c', 'i', 'e', 'l', 'o'], ['c', 'a', 'l', 'o', 'r'], ['n', 'u', 'b', 'e', 's']]"
   ]
  },
  {
   "cell_type": "code",
   "execution_count": null,
   "id": "412ef654",
   "metadata": {},
   "outputs": [
    {
     "name": "stdout",
     "output_type": "stream",
     "text": [
      "[['c', 'a', 'l', 'o', 'r']]\n",
      "[['c', 'a', 'l', 'o', 'r'], ['c', 'i', 'e', 'l', 'o']]\n",
      "[['c', 'a', 'l', 'o', 'r'], ['c', 'i', 'e', 'l', 'o'], ['n', 'u', 'b', 'e', 's']]\n"
     ]
    }
   ],
   "source": [
    "def ingreso_palabra_a_lista(lista):\n",
    "    palabra = input(\"Ingrese una palabra: \")\n",
    "    palabra_enlistadas = list(palabra)\n",
    "    lista.append(palabra_enlistadas)\n",
    "    print(lista)\n",
    "\n",
    "lista_palabras_enlistadas = []\n",
    "\n",
    "ingreso_palabra_a_lista(lista_palabras_enlistadas)\n",
    "ingreso_palabra_a_lista(lista_palabras_enlistadas)\n",
    "ingreso_palabra_a_lista(lista_palabras_enlistadas)"
   ]
  },
  {
   "cell_type": "markdown",
   "id": "0ab335df",
   "metadata": {},
   "source": [
    "# Challenge 6 🤺 - 25m\n",
    "Dada la lista de ejemplo: \n",
    "\n",
    "lista = [['h', 'o', 'l', 'i', 's'], ['h', 'e', 'l', 'l', 'o'], ['h', 'a', 'l', 'l', 'o']]\n",
    "\n",
    "Crear una función que imprima una grilla (lista de listas), una línea por cada lista dentro de la lista principal.\n",
    "\n",
    "Ejemplo del resultado esperado:\n",
    "\n",
    "    ['h', 'o', 'l', 'i', 's']\n",
    "    ['h', 'e', 'l', 'l', 'o']\n",
    "    ['h', 'a', 'l', 'l', 'o']"
   ]
  },
  {
   "cell_type": "code",
   "execution_count": 21,
   "id": "b5367597",
   "metadata": {},
   "outputs": [
    {
     "name": "stdout",
     "output_type": "stream",
     "text": [
      "['h', 'o', 'l', 'i', 's']\n",
      "['h', 'e', 'l', 'l', 'o']\n",
      "['h', 'a', 'l', 'l', 'o']\n"
     ]
    }
   ],
   "source": [
    "lista = [['h', 'o', 'l', 'i', 's'], ['h', 'e', 'l', 'l', 'o'], ['h', 'a', 'l', 'l', 'o']]\n",
    "\n",
    "def imprimir_elementos_lista(lista):\n",
    "    for elemento in lista:\n",
    "        print(elemento)\n",
    "\n",
    "imprimir_elementos_lista(lista)"
   ]
  }
 ],
 "metadata": {
  "kernelspec": {
   "display_name": "Python 3",
   "language": "python",
   "name": "python3"
  },
  "language_info": {
   "codemirror_mode": {
    "name": "ipython",
    "version": 3
   },
   "file_extension": ".py",
   "mimetype": "text/x-python",
   "name": "python",
   "nbconvert_exporter": "python",
   "pygments_lexer": "ipython3",
   "version": "3.12.5"
  }
 },
 "nbformat": 4,
 "nbformat_minor": 5
}
