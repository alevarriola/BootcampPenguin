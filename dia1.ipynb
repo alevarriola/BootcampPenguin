{
 "cells": [
  {
   "cell_type": "code",
   "execution_count": 1,
   "id": "41ae9146",
   "metadata": {},
   "outputs": [
    {
     "name": "stdout",
     "output_type": "stream",
     "text": [
      "Hola mundo!\n"
     ]
    }
   ],
   "source": [
    "print(\"Hola mundo!\")"
   ]
  },
  {
   "cell_type": "markdown",
   "id": "98ea2e6e",
   "metadata": {},
   "source": [
    "# 1er Challenge 🤺 - 20m\n",
    "### Suma: \n",
    "asignar dos números en dos variables diferentes cantidad_de_manzanas y cantidad_de_naranjas. Luego sumar ambas variables en cantidad_de_frutas. Imprimir la última variable.\n",
    "\n",
    "### Resta: \n",
    "asignar un valor numérico a la variable frutas_vendidas. Luego, asignar la resta entre cantidad_de_frutas y frutas_vendidas a la variable frutas_restantes. Imprimir la última variable."
   ]
  },
  {
   "cell_type": "markdown",
   "id": "1f82efe1",
   "metadata": {},
   "source": [
    "# Seudocodigo\n",
    "\n",
    "- anotar ambos valores de cantidades en 2 variables\n",
    "- sumas las dos variables en una variable de total\n",
    "- a esta variable restarle las frutas vendidas\n",
    "- imprimir el tota"
   ]
  },
  {
   "cell_type": "code",
   "execution_count": 5,
   "id": "b8eef763",
   "metadata": {},
   "outputs": [
    {
     "name": "stdout",
     "output_type": "stream",
     "text": [
      "30\n",
      "25\n"
     ]
    }
   ],
   "source": [
    "cantidad_de_manzanas = 10\n",
    "cantidad_de_naranjas = 20\n",
    "\n",
    "cantidad_de_frutas = cantidad_de_manzanas + cantidad_de_naranjas\n",
    "print(cantidad_de_frutas)\n",
    "\n",
    "frutas_vendidas = 5\n",
    "frutas_restantes = cantidad_de_frutas - frutas_vendidas\n",
    "print(frutas_restantes)"
   ]
  },
  {
   "cell_type": "markdown",
   "id": "d2d74c00",
   "metadata": {},
   "source": [
    "# 2do Challenge 🤺 - 15m\n",
    "\n",
    "Asignar el nombre y el apellido de tu compañera/o a las variables nombre y apellido. Luego, imprimir una frase, utilizando las variables.\n",
    "EJEMPLO: \"Hola. Me llamo Claudia Melgarejo. Mucho gusto.\""
   ]
  },
  {
   "cell_type": "markdown",
   "id": "064ee623",
   "metadata": {},
   "source": [
    "## Seudocodigo\n",
    "\n",
    "- consultar a mi compañero su nombre y apellido\n",
    "- asisnar dos variables con esos datos\n",
    "- imprimir el resultado con f"
   ]
  },
  {
   "cell_type": "code",
   "execution_count": 6,
   "id": "1109b7c2",
   "metadata": {},
   "outputs": [
    {
     "name": "stdout",
     "output_type": "stream",
     "text": [
      "Hola. Me llamo Matias Zarza. Mucho gusto\n"
     ]
    }
   ],
   "source": [
    "nombre = \"Matias\"\n",
    "apellido = \"Zarza\"\n",
    "\n",
    "print(f\"Hola. Me llamo {nombre} {apellido}. Mucho gusto\")"
   ]
  },
  {
   "cell_type": "markdown",
   "id": "ce9a83c9",
   "metadata": {},
   "source": [
    "# 3er Challenge 🤺 - 10m\n",
    "Solicitar al usuario ingresar dos números y almacenarlos en dos variables. Luego, imprimir la suma de los dos números."
   ]
  },
  {
   "cell_type": "code",
   "execution_count": null,
   "id": "6f6d9979",
   "metadata": {},
   "outputs": [
    {
     "name": "stdout",
     "output_type": "stream",
     "text": [
      "La suma del numero 5 y el numero 10 es igual a 15\n"
     ]
    }
   ],
   "source": [
    "numero_1 = int(input(\"Ingrese un numero\"))\n",
    "numero_2 = int(input(\"Ingrese otro numero\"))\n",
    "suma = numero_1 + numero_2\n",
    "\n",
    "print(f\"La suma del numero {numero_1} y el numero {numero_2} es igual a {suma}\")"
   ]
  },
  {
   "cell_type": "markdown",
   "id": "a7f214ee",
   "metadata": {},
   "source": [
    "# 4to Challenge 🤺 - 10m\n",
    "\n",
    "Crear una función de un proceso que se les ocurra que tenga varios pasos.\n",
    "Ejecutar la función 3 veces."
   ]
  },
  {
   "cell_type": "code",
   "execution_count": 14,
   "id": "5a639f35",
   "metadata": {},
   "outputs": [
    {
     "name": "stdout",
     "output_type": "stream",
     "text": [
      "Acostarse en la camita\n",
      "Cerrar los ojos\n",
      "contar pinguinos saltando vallas\n",
      "ZzZzZ \n",
      "\n",
      "Acostarse en la camita\n",
      "Cerrar los ojos\n",
      "contar pinguinos saltando vallas\n",
      "ZzZzZ \n",
      "\n",
      "Acostarse en la camita\n",
      "Cerrar los ojos\n",
      "contar pinguinos saltando vallas\n",
      "ZzZzZ \n",
      "\n"
     ]
    }
   ],
   "source": [
    "def dormir():\n",
    "    print(\"Acostarse en la camita\")\n",
    "    print(\"Cerrar los ojos\")\n",
    "    print(\"contar pinguinos saltando vallas\")\n",
    "    print(\"ZzZzZ \\n\")\n",
    "\n",
    "dormir()\n",
    "dormir()\n",
    "dormir()"
   ]
  },
  {
   "cell_type": "markdown",
   "id": "5f85d1c1",
   "metadata": {},
   "source": [
    "# 5to Challenge 🤺 - 15m\n",
    "Escribir una funcion que nos pregunte las caracteriticas de un elemento a comprar e imprima el elemento con sus caracteristicas."
   ]
  },
  {
   "cell_type": "code",
   "execution_count": null,
   "id": "7946ab39",
   "metadata": {},
   "outputs": [
    {
     "name": "stdout",
     "output_type": "stream",
     "text": [
      "La caracteristica del microondas es:\n",
      "Color: negro\n",
      "Tamaño: 10´\n",
      "Litros: 20\n",
      "Temperatura: 300°\n",
      "Fin de listado \n",
      "\n",
      "La caracteristica del microondas es:\n",
      "Color: negro\n",
      "Tamaño: 10´\n",
      "Litros: 30\n",
      "Temperatura: 300°\n",
      "Fin de listado \n",
      "\n",
      "La caracteristica del microondas es:\n",
      "Color: negro\n",
      "Tamaño: 10´\n",
      "Litros: 40\n",
      "Temperatura: 300°\n",
      "Fin de listado \n",
      "\n"
     ]
    }
   ],
   "source": [
    "def caracteristicas_microondas(litros):\n",
    "    print(\"La caracteristica del microondas es:\")\n",
    "    print(\"Color: negro\")\n",
    "    print(\"Tamaño: 10´\")\n",
    "    print(f\"Litros: {litros}\")\n",
    "    print(\"Temperatura: 300°\")\n",
    "    print(\"Fin de listado \\n\")\n",
    "\n",
    "\n",
    "caracteristicas_microondas(20)\n",
    "caracteristicas_microondas(30)\n",
    "caracteristicas_microondas(40)"
   ]
  }
 ],
 "metadata": {
  "kernelspec": {
   "display_name": "Python 3",
   "language": "python",
   "name": "python3"
  },
  "language_info": {
   "codemirror_mode": {
    "name": "ipython",
    "version": 3
   },
   "file_extension": ".py",
   "mimetype": "text/x-python",
   "name": "python",
   "nbconvert_exporter": "python",
   "pygments_lexer": "ipython3",
   "version": "3.12.5"
  }
 },
 "nbformat": 4,
 "nbformat_minor": 5
}
