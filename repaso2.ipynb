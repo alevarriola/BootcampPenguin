{
 "cells": [
  {
   "cell_type": "markdown",
   "id": "5c79a31b",
   "metadata": {},
   "source": [
    "# Challenge 1: Registro de Tareas con Diccionarios\n",
    "Crea un programa que gestione las tareas de una persona. Debe usar un diccionario\n",
    "para almacenar las tareas con la siguiente estructura:\n",
    "- tarea: nombre de la tarea.\n",
    "- estado: estado de la tarea (pendiente, en progreso, completada).\n",
    "## El programa debe permitir al usuario:\n",
    "1. Agregar una tarea nueva.\n",
    "2. Modificar el estado de una tarea.\n",
    "3. Eliminar una tarea.\n",
    "4. Mostrar todas las tareas y su estado"
   ]
  },
  {
   "cell_type": "code",
   "execution_count": null,
   "id": "16a85366",
   "metadata": {},
   "outputs": [
    {
     "name": "stdout",
     "output_type": "stream",
     "text": [
      "Creando lista de tareas.\n",
      "Que desea hacer?\n",
      "Opcion 1: Agregar una nueva tarea\n",
      "Opcion 2: Modificar estado de una tarea\n",
      "Opcion 3: Eliminar una tarea\n",
      "Opcion 4: Mostrar todas las tareas y estados\n",
      "Opcion 5; Salir \n",
      "\n",
      "Agregando nueva tarea\n",
      "Tarea estudiar agregada a los pendientes\n",
      "\n",
      "Que desea hacer?\n",
      "Opcion 1: Agregar una nueva tarea\n",
      "Opcion 2: Modificar estado de una tarea\n",
      "Opcion 3: Eliminar una tarea\n",
      "Opcion 4: Mostrar todas las tareas y estados\n",
      "Opcion 5; Salir \n",
      "\n",
      "Agregando nueva tarea\n",
      "Tarea bañar agregada a los pendientes\n",
      "\n",
      "Que desea hacer?\n",
      "Opcion 1: Agregar una nueva tarea\n",
      "Opcion 2: Modificar estado de una tarea\n",
      "Opcion 3: Eliminar una tarea\n",
      "Opcion 4: Mostrar todas las tareas y estados\n",
      "Opcion 5; Salir \n",
      "\n",
      "Agregando nueva tarea\n",
      "Tarea viajar agregada a los pendientes\n",
      "\n",
      "Que desea hacer?\n",
      "Opcion 1: Agregar una nueva tarea\n",
      "Opcion 2: Modificar estado de una tarea\n",
      "Opcion 3: Eliminar una tarea\n",
      "Opcion 4: Mostrar todas las tareas y estados\n",
      "Opcion 5; Salir \n",
      "\n",
      "De que tarea desea modificar su estado?\n",
      "dict_keys(['estudiar', 'bañar', 'viajar'])\n",
      "En que estado se encuentra la tarea estudiar?\n",
      "(P) Pendiente (E) En proceso, (C) Completada\n",
      "Modificando el estado de estudiar a (En proceso)\n",
      "\n",
      "Que desea hacer?\n",
      "Opcion 1: Agregar una nueva tarea\n",
      "Opcion 2: Modificar estado de una tarea\n",
      "Opcion 3: Eliminar una tarea\n",
      "Opcion 4: Mostrar todas las tareas y estados\n",
      "Opcion 5; Salir \n",
      "\n",
      "Que tarea desea eliminar?\n",
      "dict_keys(['estudiar', 'bañar', 'viajar'])\n",
      "Eliminando la tarea bañar\n",
      "\n",
      "Que desea hacer?\n",
      "Opcion 1: Agregar una nueva tarea\n",
      "Opcion 2: Modificar estado de una tarea\n",
      "Opcion 3: Eliminar una tarea\n",
      "Opcion 4: Mostrar todas las tareas y estados\n",
      "Opcion 5; Salir \n",
      "\n",
      "Mostrando todas las tareas y estados:\n",
      "{'estudiar': 'En proceso', 'viajar': 'Pendiente'} \n",
      "\n",
      "Que desea hacer?\n",
      "Opcion 1: Agregar una nueva tarea\n",
      "Opcion 2: Modificar estado de una tarea\n",
      "Opcion 3: Eliminar una tarea\n",
      "Opcion 4: Mostrar todas las tareas y estados\n",
      "Opcion 5; Salir \n",
      "\n",
      "Saliendo del programa: Lista de tareas y estados\n",
      "{'estudiar': 'En proceso', 'viajar': 'Pendiente'}\n"
     ]
    }
   ],
   "source": [
    "def bienvenida():\n",
    "    print(\"Que desea hacer?\")\n",
    "    print(\"Opcion 1: Agregar una nueva tarea\")\n",
    "    print(\"Opcion 2: Modificar estado de una tarea\")\n",
    "    print(\"Opcion 3: Eliminar una tarea\")\n",
    "    print(\"Opcion 4: Mostrar todas las tareas y estados\")\n",
    "    print(\"Opcion 5; Salir \\n\")\n",
    "\n",
    "def agregar_tarea(diccionario):\n",
    "    print(\"Agregando nueva tarea\")\n",
    "    tarea = input(\"Ingrese nombre de la tarea\")\n",
    "    diccionario[tarea] = \"Pendiente\"\n",
    "    print(f\"Tarea {tarea} agregada a los pendientes\\n\")\n",
    "\n",
    "def modificar_tarea(diccionario):\n",
    "    print(\"De que tarea desea modificar su estado?\")\n",
    "    print(diccionario.keys())\n",
    "    tarea = input(\"Ingrese nombre de la tarea\\n\")\n",
    "\n",
    "    if tarea in diccionario:\n",
    "        print(f\"En que estado se encuentra la tarea {tarea}?\")\n",
    "        print(\"(P) Pendiente (E) En proceso, (C) Completada\")\n",
    "        opcion = input(\"Ingrece P, E o C\").lower()\n",
    "\n",
    "        if opcion == \"p\":\n",
    "            print(f\"Modificando el estado de {tarea} a (Pendiente)\\n\")\n",
    "            diccionario[tarea] = \"Pendiente\"\n",
    "\n",
    "        elif opcion == \"e\":\n",
    "            print(f\"Modificando el estado de {tarea} a (En proceso)\\n\")\n",
    "            diccionario[tarea] = \"En proceso\"\n",
    "\n",
    "        elif opcion == \"c\":\n",
    "            print(f\"Modificando el estado de {tarea} a (Completada)\\n\")\n",
    "            diccionario[tarea] = \"Completada\"\n",
    "\n",
    "        else:\n",
    "            print(\"Opcion invalida, recuerde solo ingresas P, E o C\\n\")\n",
    "    else:\n",
    "         print(\"Tarea inexistente en el diccionario\\n\")\n",
    "\n",
    "def eliminar_tarea(diccionario):\n",
    "    print(\"Que tarea desea eliminar?\")\n",
    "    print(diccionario.keys())\n",
    "    tarea = input(\"Ingrese nombre de la tarea\\n\")\n",
    "\n",
    "    if tarea in diccionario:\n",
    "        print(f\"Eliminando la tarea {tarea}\\n\")\n",
    "        del diccionario[tarea]\n",
    "\n",
    "    else:\n",
    "        print(\"Tarea inexistente en el diccionario\\n\")\n",
    "\n",
    "\n",
    "\n",
    "\n",
    "\n",
    "\n",
    "\n",
    "\n",
    "\n",
    "dic_tareas = {}\n",
    "print(\"Creando lista de tareas.\")\n",
    "\n",
    "while True:\n",
    "\n",
    "    bienvenida()\n",
    "\n",
    "    opcion = input(\"Ingrese una opcion numerica\")\n",
    "\n",
    "    if opcion == \"1\":\n",
    "        agregar_tarea(dic_tareas)\n",
    "\n",
    "    elif opcion == \"2\":\n",
    "        modificar_tarea(dic_tareas)\n",
    "\n",
    "    elif opcion == \"3\":\n",
    "        eliminar_tarea(dic_tareas)\n",
    "\n",
    "    elif opcion == \"4\":\n",
    "        print(\"Mostrando todas las tareas y estados:\")\n",
    "        print(f\"{dic_tareas} \\n\")\n",
    "\n",
    "    elif opcion == \"5\":\n",
    "        print(\"Saliendo del programa: Lista de tareas y estados\")\n",
    "        print(dic_tareas)\n",
    "        break\n",
    "\n",
    "    else:\n",
    "        print(\"Opcion invalida, recuerde solo marcar 1, 2, 3, 4 o 5.\\n\")\n",
    "\n",
    "\n"
   ]
  },
  {
   "cell_type": "markdown",
   "id": "ef07b23d",
   "metadata": {},
   "source": [
    "# Challenge 2: Adivina el Número\n",
    "Crea un juego simple en el que el usuario tiene que adivinar un número secreto. El\n",
    "usuario puede hacer 3 intentos. Cada vez que falle, el programa debe decir si el número\n",
    "secreto es mayor o menor al ingresado . Si el usuario adivina, debe mostrar\n",
    "\"¡Felicidades! Adivinaste\"."
   ]
  },
  {
   "cell_type": "code",
   "execution_count": null,
   "id": "77e14707",
   "metadata": {},
   "outputs": [
    {
     "name": "stdout",
     "output_type": "stream",
     "text": [
      "Bienvenido a 'Adivina un numero'!!! \n",
      "Trata de adivinar el numero secreto\n",
      "El numero secreto va del 1 al 20\n",
      "Tienes 3 intentos \n",
      "\n",
      "El numero 15 es mayor al numero secreto!\n",
      "Intentalo de vuelta, te quedan 2 intentos\n",
      "\n",
      "El numero 4 es menor al numero secreto!\n",
      "Intentalo de vuelta, te quedan 1 intentos\n",
      "\n",
      "Recuerda solo ingresar numeros del 1 al 20\n",
      "\n",
      "Recuerda solo ingresar numeros del 1 al 20\n",
      "\n",
      "Eso no es un numero válido!\n",
      "Felicidades! haz ganado! el numero secreto era 7\n",
      "Te han sobrado 1 intentos!\n",
      "Que grande!\n"
     ]
    }
   ],
   "source": [
    "intentos = 3\n",
    "numero_secreto = 7\n",
    "\n",
    "print(\"Bienvenido a 'Adivina un numero'!!! \")\n",
    "print(\"Trata de adivinar el numero secreto\")\n",
    "print(\"El numero secreto va del 1 al 20\")\n",
    "print(\"Tienes 3 intentos \\n\")\n",
    "\n",
    "while intentos > 0:\n",
    "\n",
    "    try:\n",
    "        numero_ingresado = int(input(\"Ingresa un numero: \"))\n",
    "    except ValueError: #En el caso de que de un VAlueError al ingresar una letra, no rompa el codigo\n",
    "        print(\"Eso no es un numero picaron!\\n\")\n",
    "        continue\n",
    "\n",
    "    if numero_ingresado > 20 or numero_ingresado <= 0:\n",
    "        print(\"Recuerda solo ingresar numeros del 1 al 20\\n\")\n",
    "    \n",
    "    elif numero_ingresado == numero_secreto:\n",
    "        intentos = intentos - 1\n",
    "        print(f\"Felicidades! haz ganado! el numero secreto era {numero_secreto}\")\n",
    "        print(f\"Te han sobrado {intentos} intentos!\")\n",
    "        print(\"Que grande!\")\n",
    "        break\n",
    "\n",
    "    else:\n",
    "        intentos = intentos - 1\n",
    "        if numero_ingresado > numero_secreto:\n",
    "            print(f\"El numero {numero_ingresado} es mayor al numero secreto!\")\n",
    "            print(f\"Intentalo de vuelta, te quedan {intentos} intentos\\n\")\n",
    "        elif numero_ingresado < numero_secreto:\n",
    "            print(f\"El numero {numero_ingresado} es menor al numero secreto!\")\n",
    "            print(f\"Intentalo de vuelta, te quedan {intentos} intentos\\n\")\n",
    "\n",
    "if intentos == 0:\n",
    "    print(\"Haz fallado garrafalmente. Intentalo de nuevo!\")\n"
   ]
  },
  {
   "cell_type": "markdown",
   "id": "9512bb97",
   "metadata": {},
   "source": [
    "# Challenge 3: La Clase Animal\n",
    "Crea una clase llamada Animal que tenga los atributos:\n",
    "- Nombre\n",
    "- edad\n",
    "\n",
    "## La clase debe tener un método llamado presentarse() que imprima algo como:\n",
    "### \"¡Hola! Soy [nombre] y tengo [edad] años. \n",
    "Luego, crea instancias de un perro y un gato y haz que ambos se presenten."
   ]
  },
  {
   "cell_type": "code",
   "execution_count": 10,
   "id": "21f3b892",
   "metadata": {},
   "outputs": [
    {
     "name": "stdout",
     "output_type": "stream",
     "text": [
      "Hola! Soy Perri y tengo 7 años!\n",
      "Hola! Soy Gati y tengo 3 años!\n"
     ]
    }
   ],
   "source": [
    "class Animal:\n",
    "\n",
    "    def __init__(self, nombre, edad):\n",
    "        self.nombre = nombre\n",
    "        self.edad = edad\n",
    "\n",
    "    def presentarse(self):\n",
    "        return f\"Hola! Soy {self.nombre} y tengo {self.edad} años!\"\n",
    "    \n",
    "\n",
    "perro = Animal(\"Perri\", 7)\n",
    "gato = Animal(\"Gati\", 3)\n",
    "\n",
    "print(perro.presentarse())\n",
    "print(gato.presentarse())"
   ]
  },
  {
   "cell_type": "markdown",
   "id": "4818ef5d",
   "metadata": {},
   "source": [
    "# Challenge 4: Peluche\n",
    "Crea una clase Peluche con los atributos:\n",
    "- nombre\n",
    "- tamaño\n",
    "\n",
    "## La clase debe tener un método abrazar() que imprima algo como: \n",
    "### \"¡Es hora de abrazar a [nombre], el peluche de tamaño [tamaño]!\"\n",
    "\n",
    "Luego, crea un peluche y haz que sea abrazado.\n",
    "    Conceptos usados:\n",
    "    ● Clases, Atributos, Métodos"
   ]
  },
  {
   "cell_type": "code",
   "execution_count": 11,
   "id": "8d318090",
   "metadata": {},
   "outputs": [
    {
     "name": "stdout",
     "output_type": "stream",
     "text": [
      "Es hora de abrazar a Peluchin, el peluche de tamaño pequeeeeño\n"
     ]
    }
   ],
   "source": [
    "class Peluche:\n",
    "\n",
    "    def __init__(self, nombre, tamaño):\n",
    "        self.nombre = nombre\n",
    "        self.tamaño = tamaño\n",
    "\n",
    "    def abrazar(self):\n",
    "        return f\"Es hora de abrazar a {self.nombre}, el peluche de tamaño {self.tamaño}\"\n",
    "    \n",
    "pelu = Peluche(\"Peluchin\", \"pequeeeeño\")\n",
    "\n",
    "print(pelu.abrazar())"
   ]
  },
  {
   "cell_type": "markdown",
   "id": "bf336ed1",
   "metadata": {},
   "source": [
    "# Challenge 5: Multiplicar una Lista de Números\n",
    "\n",
    "## Escribe una función llamada multiplicar_lista() \n",
    "que reciba una lista de números como parámetro y devuelva el resultado de multiplicar todos los elementos de la lista."
   ]
  },
  {
   "cell_type": "code",
   "execution_count": null,
   "id": "4ae67172",
   "metadata": {},
   "outputs": [
    {
     "name": "stdout",
     "output_type": "stream",
     "text": [
      "1000\n"
     ]
    }
   ],
   "source": [
    "def multiplicar_lista(lista):\n",
    "    multiplicacion = 1\n",
    "    for numero in lista:\n",
    "        multiplicacion = multiplicacion * numero\n",
    "    return multiplicacion\n",
    "\n",
    "lista = [2,5,5,2,10]\n",
    "\n",
    "resultado = multiplicar_lista(lista)\n",
    "print(resultado)"
   ]
  },
  {
   "cell_type": "markdown",
   "id": "8c47a998",
   "metadata": {},
   "source": [
    "# Challenge 6: Acumulador de Números\n",
    "## Escribe una función llamada acumulador() \n",
    "que reciba un número n como parámetro y devuelva la suma de todos los números desde 1 hasta n."
   ]
  },
  {
   "cell_type": "code",
   "execution_count": 10,
   "id": "363921ca",
   "metadata": {},
   "outputs": [
    {
     "name": "stdout",
     "output_type": "stream",
     "text": [
      "55\n"
     ]
    }
   ],
   "source": [
    "def acumulador(numero_recibido):\n",
    "    resultado = 0\n",
    "    for numero_recorrido in range(numero_recibido):\n",
    "        numero_sumar = numero_recorrido + 1\n",
    "        resultado = resultado + numero_sumar\n",
    "    return resultado\n",
    "\n",
    "print(acumulador(10))"
   ]
  }
 ],
 "metadata": {
  "kernelspec": {
   "display_name": "Python 3",
   "language": "python",
   "name": "python3"
  },
  "language_info": {
   "codemirror_mode": {
    "name": "ipython",
    "version": 3
   },
   "file_extension": ".py",
   "mimetype": "text/x-python",
   "name": "python",
   "nbconvert_exporter": "python",
   "pygments_lexer": "ipython3",
   "version": "3.12.5"
  }
 },
 "nbformat": 4,
 "nbformat_minor": 5
}
