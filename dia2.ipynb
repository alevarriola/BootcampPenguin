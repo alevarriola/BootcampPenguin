{
 "cells": [
  {
   "cell_type": "markdown",
   "id": "887725c9",
   "metadata": {},
   "source": [
    "# 1er Challenge🤺 - 20m\n",
    "Escribe un programa que pregunte al usuario por su edad y determine si tiene edad suficiente para comprar y consumir alcohol.\n",
    "- Si el usuario tiene mas de 18 pero menos de 21 impirmir \"Podes tomar pero no comprar\"\n",
    "- Si el usuario tiene menos de 18 imprimir \"Juguito nomas\"\n",
    "- Si el usuario tiene mas de 21 imprimir \"Hace lo que quieras\""
   ]
  },
  {
   "cell_type": "code",
   "execution_count": 4,
   "id": "bb94973f",
   "metadata": {},
   "outputs": [
    {
     "name": "stdout",
     "output_type": "stream",
     "text": [
      "Aguita nomas\n"
     ]
    }
   ],
   "source": [
    "edad = int(input(\"Ingrese su edad\"))\n",
    "\n",
    "if edad < 18:\n",
    "    print(\"Aguita nomas\")\n",
    "elif edad > 21:\n",
    "    print(\"Hace lo que quieras\")\n",
    "else:\n",
    "    print(\"Podes tomar, pero no comprar\")"
   ]
  },
  {
   "cell_type": "markdown",
   "id": "ededeb0d",
   "metadata": {},
   "source": [
    "# 2do Challenge 🤺 - 30m\n",
    "Escribir un programa en el que se pregunte al usuario por una temperatura (en grados Celsius), imprima la temperatura escrita, y luego clasificar la temperatura ingresada en los siguientes niveles:\n",
    "\n",
    "- Entre -10 y 18 grados, que imprima \"Fresquete\".\n",
    "- Entre 19 y 30 grados, que imprima \"Calor'i\".\n",
    "- Entre 31 y 45 grados, que imprima \"Hakuuuuuu\".\n",
    "- Para todo lo demás, imprimir \"Ñamano mba'e!\"."
   ]
  },
  {
   "cell_type": "code",
   "execution_count": null,
   "id": "c3f7f691",
   "metadata": {},
   "outputs": [
    {
     "name": "stdout",
     "output_type": "stream",
     "text": [
      "Temperatura actual: 25°\n",
      "Calor'i\n"
     ]
    }
   ],
   "source": [
    "temperatura = int(input(\"Ingrese la temperatura actual\"))\n",
    "print(f\"Temperatura actual: {temperatura}°\")\n",
    "\n",
    "if -10 <= temperatura and temperatura <= 18:\n",
    "    print(\"Fresquete\")\n",
    "elif 19 <= temperatura and temperatura <= 30:\n",
    "    print(\"Calor'i\")\n",
    "elif 31 <= temperatura and temperatura <= 45:\n",
    "    print(\"Hakuuuuuu\")\n",
    "else:\n",
    "    print(\"Ñamano mba'e\")"
   ]
  },
  {
   "cell_type": "markdown",
   "id": "15b4e76e",
   "metadata": {},
   "source": [
    "# 3er Challenge 🤺 - 20m\n",
    "Escribir un programa que almacene una contraseña en una variable, y pregunte al usuario por la contraseña hasta que introduzca la contraseña correcta.\n",
    "\n",
    "Cuando el usuario ingrese la contrasena correcta, imprimir un mensaje secreto."
   ]
  },
  {
   "cell_type": "code",
   "execution_count": null,
   "id": "bb7a4232",
   "metadata": {},
   "outputs": [
    {
     "name": "stdout",
     "output_type": "stream",
     "text": [
      "Contraseña incorrecta\n",
      "Contraseña correcta! Aguante penguin\n"
     ]
    }
   ],
   "source": [
    "clave_secreta = \"penguin\"\n",
    "\n",
    "while True:\n",
    "    contraseña = input(\"Ingrese su contraseña\")\n",
    "    if contraseña == clave_secreta:\n",
    "        print(\"Contraseña correcta! pingu pingu\")\n",
    "        break\n",
    "    else:\n",
    "        print(\"Contraseña incorrecta\")"
   ]
  },
  {
   "cell_type": "markdown",
   "id": "abf326dc",
   "metadata": {},
   "source": [
    "# 4to Challenge 🤺 - 20m\n",
    "Crear una lista de 5 elementos. Luego, seguir los siguientes pasos.\n",
    "\n",
    "- Agregar un elemento al final de la lista.\n",
    "- Modificar el segundo elemento.\n",
    "- Eliminar el tercer elemento."
   ]
  },
  {
   "cell_type": "code",
   "execution_count": null,
   "id": "ac5adda3",
   "metadata": {},
   "outputs": [
    {
     "name": "stdout",
     "output_type": "stream",
     "text": [
      "['Lunes', 'Martes', 'Miercoles', 'Jueves', 'Viernes']\n",
      "['Lunes', 'Martes', 'Miercoles', 'Jueves', 'Viernes', 'Sabado']\n",
      "['Lunes', 'Domingo', 'Miercoles', 'Jueves', 'Viernes', 'Sabado']\n",
      "['Lunes', 'Domingo', 'Jueves', 'Viernes', 'Sabado']\n"
     ]
    }
   ],
   "source": [
    "dias = [\"Lunes\", \"Martes\", \"Miercoles\", \"Jueves\", \"Viernes\"]\n",
    "print(dias)\n",
    "\n",
    "dias.append(\"Sabado\")\n",
    "print(dias)\n",
    "\n",
    "dias[1] = \"Domingo\"\n",
    "print(dias)\n",
    "\n",
    "dias.pop(2)\n",
    "print(dias)"
   ]
  },
  {
   "cell_type": "markdown",
   "id": "93c82683",
   "metadata": {},
   "source": [
    "# 5to Challenge 🤺 - 20m\n",
    "\n",
    "Escribir un programa que itere en un rango de 10 veces. Por cada iteracion multiplicar el iterador por dos e imprimir el resultado."
   ]
  },
  {
   "cell_type": "code",
   "execution_count": 27,
   "id": "2eab4f47",
   "metadata": {},
   "outputs": [
    {
     "name": "stdout",
     "output_type": "stream",
     "text": [
      "0\n",
      "2\n",
      "4\n",
      "6\n",
      "8\n",
      "10\n",
      "12\n",
      "14\n",
      "16\n",
      "18\n"
     ]
    }
   ],
   "source": [
    "for iterador in range(10):\n",
    "    numero = iterador * 2\n",
    "    print(numero)"
   ]
  },
  {
   "cell_type": "markdown",
   "id": "e0c092bb",
   "metadata": {},
   "source": [
    "# 6to Challenge 🤺 - 20m\n",
    "\n",
    "Recorrer los elementos de una lista de marcas e imprimir cada marca solamente si tiene 6 letras o más."
   ]
  },
  {
   "cell_type": "code",
   "execution_count": null,
   "id": "7191eb2b",
   "metadata": {},
   "outputs": [
    {
     "name": "stdout",
     "output_type": "stream",
     "text": [
      "la marca Samsung tiene 6 o mas caracteres\n",
      "la marca Adidas tiene 6 o mas caracteres\n",
      "la marca Microsoft tiene 6 o mas caracteres\n",
      "la marca Google tiene 6 o mas caracteres\n",
      "la marca Amazon tiene 6 o mas caracteres\n",
      "la marca Lenovo tiene 6 o mas caracteres\n"
     ]
    }
   ],
   "source": [
    "marcas = [\n",
    "    \"Apple\",\n",
    "    \"Samsung\",\n",
    "    \"Nike\",\n",
    "    \"Adidas\",\n",
    "    \"Microsoft\",\n",
    "    \"Sony\",\n",
    "    \"Google\",\n",
    "    \"Puma\",\n",
    "    \"Amazon\",\n",
    "    \"Asus\",\n",
    "    \"Lenovo\",\n",
    "    \"Tesla\"\n",
    "]\n",
    "\n",
    "for elemento in marcas:\n",
    "    if len(elemento) >= 6:\n",
    "        print(f\"la marca {elemento} tiene 6 o mas caracteres\")"
   ]
  },
  {
   "cell_type": "markdown",
   "id": "690dbcde",
   "metadata": {},
   "source": [
    "# 7mo Challenge 🤺 - 15m\n",
    "Solicitar al usuario que ingrese una frase.\n",
    "\n",
    "Imprimir un mensaje cada vez que se encuentre una letra \"o\"."
   ]
  },
  {
   "cell_type": "code",
   "execution_count": 33,
   "id": "14a1f7bd",
   "metadata": {},
   "outputs": [
    {
     "name": "stdout",
     "output_type": "stream",
     "text": [
      "Encontre una letra 'o'\n"
     ]
    }
   ],
   "source": [
    "frase = input(\"Ingresa una frase\")\n",
    "\n",
    "for letra in frase:\n",
    "    if letra == \"o\":\n",
    "        print(\"Encontre una letra 'o'\")\n"
   ]
  }
 ],
 "metadata": {
  "kernelspec": {
   "display_name": "Python 3",
   "language": "python",
   "name": "python3"
  },
  "language_info": {
   "codemirror_mode": {
    "name": "ipython",
    "version": 3
   },
   "file_extension": ".py",
   "mimetype": "text/x-python",
   "name": "python",
   "nbconvert_exporter": "python",
   "pygments_lexer": "ipython3",
   "version": "3.12.5"
  }
 },
 "nbformat": 4,
 "nbformat_minor": 5
}
