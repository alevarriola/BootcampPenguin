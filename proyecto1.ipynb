{
 "cells": [
  {
   "cell_type": "code",
   "execution_count": 1,
   "id": "a05d1bf8",
   "metadata": {},
   "outputs": [],
   "source": [
    "def verificar_palabra(palabra_oculta,palabra_ingresada):\n",
    "    lista_palabra_ingresada = list(palabra_ingresada.lower())\n",
    "    lista_palabra_oculta = list(palabra_oculta.lower())\n",
    "    palabra_verificada = []\n",
    "    for posicion in range(5):\n",
    "        if lista_palabra_ingresada[posicion] == lista_palabra_oculta[posicion]:\n",
    "            palabra_verificada.append('[' + lista_palabra_ingresada[posicion] + ']')\n",
    "        elif lista_palabra_ingresada[posicion] in lista_palabra_oculta:\n",
    "            palabra_verificada.append('(' + lista_palabra_ingresada[posicion] + ')')\n",
    "        else:\n",
    "            palabra_verificada.append(lista_palabra_ingresada[posicion])\n",
    "\n",
    "    return palabra_verificada\n",
    "\n"
   ]
  },
  {
   "cell_type": "code",
   "execution_count": 5,
   "id": "e906e48e",
   "metadata": {},
   "outputs": [],
   "source": [
    "def verificacion_longitud(palabra_ingresada):\n",
    "    if len(palabra_ingresada) == 5:\n",
    "        return True\n",
    "    else:\n",
    "        return False"
   ]
  },
  {
   "cell_type": "code",
   "execution_count": 3,
   "id": "d267a5b7",
   "metadata": {},
   "outputs": [],
   "source": [
    "def lista_grillada(lista):\n",
    "    for elementos in lista:\n",
    "        print(elementos) "
   ]
  },
  {
   "cell_type": "code",
   "execution_count": 8,
   "id": "d345baaf",
   "metadata": {},
   "outputs": [
    {
     "name": "stdout",
     "output_type": "stream",
     "text": [
      "Bienvenido a la version economica de Wordle!!\n",
      "Intenta adivinar la palabra oculta de 5 letras\n",
      "Tienes 5 intentos!! \n",
      "\n",
      "['p', 'e', 'd', 'r', '[o]']\n",
      "Te quedan 4 intentos \n",
      "\n",
      "['p', 'e', 'd', 'r', '[o]']\n",
      "['[c]', 'e', 'r', 'r', '[o]']\n",
      "Te quedan 3 intentos \n",
      "\n",
      "Recuerda, la palabra debe tener 5 letras\n",
      "['p', 'e', 'd', 'r', '[o]']\n",
      "['[c]', 'e', 'r', 'r', '[o]']\n",
      "['[c]', 'a', 'l', 'd', '[o]']\n",
      "Te quedan 2 intentos \n",
      "\n",
      "Recuerda, la palabra debe tener 5 letras\n",
      "Felicitaciones has ganado!!\n",
      "['p', 'e', 'd', 'r', '[o]']\n",
      "['[c]', 'e', 'r', 'r', '[o]']\n",
      "['[c]', 'a', 'l', 'd', '[o]']\n",
      "['[c]', '[i]', '[n]', '[c]', '[o]']\n"
     ]
    }
   ],
   "source": [
    "intentos = 5\n",
    "palabra_oculta = 'cinco'\n",
    "resultado_grillado = []\n",
    "\n",
    "print('Bienvenido a la version economica de Wordle!!')\n",
    "print('Intenta adivinar la palabra oculta de 5 letras')\n",
    "print('Tienes 5 intentos!! \\n')\n",
    "\n",
    "\n",
    "\n",
    "while intentos > 0:\n",
    "    palabra_ingresada = input('Ingrese una palabra')\n",
    "    empezar = verificacion_longitud(palabra_ingresada)\n",
    "\n",
    "    while empezar == False:\n",
    "        print('Recuerda, la palabra debe tener 5 letras')\n",
    "        palabra_ingresada = input('Ingrese una palabra')\n",
    "        empezar = verificacion_longitud(palabra_ingresada)\n",
    "\n",
    "    resultado = verificar_palabra(palabra_oculta,palabra_ingresada)\n",
    "    intentos = intentos - 1\n",
    "    \n",
    "    if palabra_ingresada == palabra_oculta:\n",
    "        print('Felicitaciones has ganado!!')\n",
    "        resultado_grillado.append(resultado)\n",
    "        lista_grillada(resultado_grillado)\n",
    "        break\n",
    "    else:\n",
    "        resultado_grillado.append(resultado)\n",
    "        lista_grillada(resultado_grillado)\n",
    "        print(f\"Te quedan {intentos} intentos \\n\")\n",
    "\n",
    "if intentos == 0:\n",
    "    print('Te quedaste sin intentos!!')\n",
    "    print('La palabra correcta era')\n",
    "    respues_incorrecta = list(palabra_oculta.lower())\n",
    "    print(respues_incorrecta)"
   ]
  }
 ],
 "metadata": {
  "kernelspec": {
   "display_name": "Python 3",
   "language": "python",
   "name": "python3"
  },
  "language_info": {
   "codemirror_mode": {
    "name": "ipython",
    "version": 3
   },
   "file_extension": ".py",
   "mimetype": "text/x-python",
   "name": "python",
   "nbconvert_exporter": "python",
   "pygments_lexer": "ipython3",
   "version": "3.12.5"
  }
 },
 "nbformat": 4,
 "nbformat_minor": 5
}
